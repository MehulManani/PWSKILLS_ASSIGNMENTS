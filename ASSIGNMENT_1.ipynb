{
 "cells": [
  {
   "cell_type": "markdown",
   "metadata": {},
   "source": [
    "Q1. Create one variable containing following type of data:\n"
   ]
  },
  {
   "cell_type": "code",
   "execution_count": 3,
   "metadata": {},
   "outputs": [],
   "source": [
    "# Answer\n",
    "\n",
    "# (i) string\n",
    "my_name = \"Mehul\"\n",
    "# (ii) list\n",
    "fruits_list = [\"apple\", \"banana\", \"cherry\", \"pineapple\"]    \n",
    "# (iii) float\n",
    "pi_value = 3.14\n",
    "# (iv) tuple\n",
    "fruits_tuple = (\"apple\", \"banana\", \"cherry\", \"pineapple\")\n"
   ]
  },
  {
   "cell_type": "markdown",
   "metadata": {},
   "source": [
    "Q2. What will be the data type of the above given variable."
   ]
  },
  {
   "cell_type": "code",
   "execution_count": 5,
   "metadata": {},
   "outputs": [
    {
     "name": "stdout",
     "output_type": "stream",
     "text": [
      "<class 'str'>\n",
      "<class 'str'>\n",
      "<class 'list'>\n",
      "<class 'int'>\n"
     ]
    }
   ],
   "source": [
    "# (i) var1 = ‘ ‘\n",
    "# (ii) var2 = ‘[ DS , ML , Python]’\n",
    "# (iii) var3 = [ ‘DS’ , ’ML’ , ‘Python’ ]\n",
    "# (iv) var4 = 1.\n",
    "\n",
    "var1 = ' '\n",
    "var2 = '[ DS , ML , Python]'\n",
    "var3 = [ 'DS' , 'ML' , 'Python' ]\n",
    "var4 = 1\n",
    "print(type(var1))\n",
    "print(type(var2))\n",
    "print(type(var3))\n",
    "print(type(var4))\n",
    "\n",
    "# Answer\n",
    "# (i) var1 = ' '  -> string\n",
    "# (ii) var2 = '[ DS , ML , Python]' -> string\n",
    "# (iii) var3 = [ 'DS' , 'ML' , 'Python' ] -> list\n",
    "#(iv) var4 = 1 -> int\n"
   ]
  },
  {
   "cell_type": "markdown",
   "metadata": {},
   "source": [
    "Q3. Explain the use of the following operators using an example:"
   ]
  },
  {
   "cell_type": "code",
   "execution_count": 6,
   "metadata": {},
   "outputs": [],
   "source": [
    "# Answer\n",
    "\n",
    "# (i) /\n",
    "#   -> The division operator (/) is used to perform floating point division\n",
    "#   -> Example: \n",
    "division = 9 / 2\n",
    "# output = 4.5\n",
    "\n",
    "# (ii) %\n",
    "#    -> The modulo operator (%) is used to find the remainder of the division of two numbers.\n",
    "#    -> Example:\n",
    "mod_division = 7 % 3\n",
    "# output = 1\n",
    "\n",
    "# (iii) //\n",
    "#    -> The floor division, also known as integer division, (//) is used to divide two numbers and convert the result in to nearest integer value.\n",
    "#    -> Example: \n",
    "floor_division = 10 // 3\n",
    "# output = 3\n",
    "\n",
    "# (iv) **\n",
    "#    -> The exponential operator (**) is used to find the power of one value to another value\n",
    "#    -> Example: \n",
    "power_operator = 4 ** 3\n",
    "# output = 64"
   ]
  },
  {
   "cell_type": "markdown",
   "metadata": {},
   "source": [
    "Q4. Create a list of length 10 of your choice containing multiple types of data. Using for loop print the element and its data type."
   ]
  },
  {
   "cell_type": "code",
   "execution_count": 7,
   "metadata": {},
   "outputs": [
    {
     "name": "stdout",
     "output_type": "stream",
     "text": [
      "Element: 1, Data Type: <class 'int'>\n",
      "Element: hello, Data Type: <class 'str'>\n",
      "Element: 3.14, Data Type: <class 'float'>\n",
      "Element: True, Data Type: <class 'bool'>\n",
      "Element: [1, 2, 3], Data Type: <class 'list'>\n",
      "Element: {'name': 'John', 'age': 25}, Data Type: <class 'dict'>\n",
      "Element: (1, 2, 3), Data Type: <class 'tuple'>\n",
      "Element: None, Data Type: <class 'NoneType'>\n",
      "Element: world, Data Type: <class 'str'>\n",
      "Element: False, Data Type: <class 'bool'>\n"
     ]
    }
   ],
   "source": [
    "# Answer\n",
    "\n",
    "my_list = [1, 'hello', 3.14, True, [1, 2, 3], {'name': 'John', 'age': 25}, (1, 2, 3), None, 'world', False]\n",
    "\n",
    "for element in my_list:\n",
    "    print(f\"Element: {element}, Data Type: {type(element)}\")\n"
   ]
  },
  {
   "cell_type": "markdown",
   "metadata": {},
   "source": [
    "Q5. Using a while loop, verify if the number A is purely divisible by number B and if so then how many times it can be divisible."
   ]
  },
  {
   "cell_type": "code",
   "execution_count": 18,
   "metadata": {},
   "outputs": [
    {
     "name": "stdout",
     "output_type": "stream",
     "text": [
      "A is not divisible by B.\n"
     ]
    }
   ],
   "source": [
    "# Answer\n",
    "A = int(input(\"Enter the value of A: \"))\n",
    "B = int(input(\"Enter the value of B: \"))\n",
    "\n",
    "count = 0\n",
    "\n",
    "if (A % B) != 0:\n",
    "    print(\"A is not divisible by B.\")\n",
    "else:\n",
    "    while A % B == 0:\n",
    "        A = A // B\n",
    "        count += 1\n",
    "    print(f\"A is divisible by B {count} times.\")\n"
   ]
  },
  {
   "cell_type": "markdown",
   "metadata": {},
   "source": [
    "Q6. Create a list containing 25 int type data. Using for loop and if-else condition print if the element is divisible by 3 or not."
   ]
  },
  {
   "cell_type": "code",
   "execution_count": null,
   "metadata": {},
   "outputs": [],
   "source": [
    "# Answer\n",
    "my_list = [5, 12, 8, 17, 9, 21, 6, 14, 11, 4, 19, 7, 10, 3, 16, 22, 13, 2, 20, 15, 1, 18, 23, 25, 24]\n",
    "\n",
    "for element in my_list:\n",
    "    if element % 3 == 0:\n",
    "        print(f\"{element} is divisible by 3\")\n",
    "    else:\n",
    "        print(f\"{element} is not divisible by 3\")"
   ]
  },
  {
   "cell_type": "markdown",
   "metadata": {},
   "source": [
    "Q7. What do you understand about mutable and immutable data types? Give examples for both showing this property.\n",
    "\n",
    "Answer:     \n",
    "    1. Mutable Data Types: \n",
    "        -> Mutable data types are those data types that allow modification in data after they are created. \n",
    "        -> Mutable data types are list, dictionary and set.\n",
    "\n",
    "    2. Immutable Data Types:\n",
    "        -> Immutable datatypes are those data types that do not allow modification in data after they are created.\n",
    "        -> Immutable data types are strings and tuples.\n",
    "            "
   ]
  },
  {
   "cell_type": "code",
   "execution_count": null,
   "metadata": {},
   "outputs": [],
   "source": [
    "# Answer 7 Example\n",
    "\n",
    "# Mutable Data Types Example:\n",
    "\n",
    "# Create a list\n",
    "my_list = [1, 2, 3]\n",
    "\n",
    "# Modify an element\n",
    "my_list[0] = 100\n",
    "print(my_list)  # Output: [100, 2, 3]\n",
    "\n",
    "# Add a new element\n",
    "my_list.append(4)\n",
    "print(my_list)  # Output: [100, 2, 3, 4]\n",
    "\n",
    "# Immutable Data Types Example:\n",
    "\n",
    "# Create a tuple\n",
    "my_tuple = (1, 2, 3)\n",
    "\n",
    "# Attempt to modify an element (this will raise an error)\n",
    "# my_tuple[0] = 100  \n",
    "\n",
    "# Create a new tuple instead if you want to change the data\n",
    "my_tuple = (100, 2, 3)\n",
    "print(my_tuple)  # Output: (100, 2, 3)\n",
    "\n",
    "\n"
   ]
  }
 ],
 "metadata": {
  "kernelspec": {
   "display_name": "Python 3",
   "language": "python",
   "name": "python3"
  },
  "language_info": {
   "codemirror_mode": {
    "name": "ipython",
    "version": 3
   },
   "file_extension": ".py",
   "mimetype": "text/x-python",
   "name": "python",
   "nbconvert_exporter": "python",
   "pygments_lexer": "ipython3",
   "version": "3.11.3"
  }
 },
 "nbformat": 4,
 "nbformat_minor": 2
}
