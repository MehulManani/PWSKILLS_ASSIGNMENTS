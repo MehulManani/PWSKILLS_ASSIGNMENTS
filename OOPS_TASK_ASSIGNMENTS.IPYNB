{
 "cells": [
  {
   "cell_type": "markdown",
   "metadata": {},
   "source": [
    "# OOPS TASK ASSIGNMENTS"
   ]
  },
  {
   "cell_type": "markdown",
   "metadata": {},
   "source": [
    "#### Q1, Create a vehicle class with an init method having instance variables as name_of_vehicle, max_speed and average_of_vehicle."
   ]
  },
  {
   "cell_type": "code",
   "execution_count": null,
   "metadata": {},
   "outputs": [],
   "source": [
    "# Answer:\n",
    "\n",
    "class Vehicle:\n",
    "    def __init__(self, name_of_vehicle, max_speed, average_of_vehicle):\n",
    "        self.name_of_vehicle = name_of_vehicle\n",
    "        self.max_speed = max_speed\n",
    "        self.average_of_vehicle = average_of_vehicle"
   ]
  },
  {
   "cell_type": "markdown",
   "metadata": {},
   "source": [
    "#### Q2. Create a child class car from the vehicle class created in Que 1, which will inherit the vehicle class. Create a method named seating_capacity which takes capacity as an argument and returns the name of the vehicle and its seating capacity."
   ]
  },
  {
   "cell_type": "code",
   "execution_count": null,
   "metadata": {},
   "outputs": [],
   "source": [
    "# Answer:\n",
    "\n",
    "class Car(Vehicle):\n",
    "    def seating_capacity(self, capacity):\n",
    "        return f\"{self.name_of_vehicle} has a seating capacity of {capacity}\""
   ]
  },
  {
   "cell_type": "markdown",
   "metadata": {},
   "source": [
    "#### Q3. What is multiple inheritance? Write a python code to demonstrate multiple inheritance."
   ]
  },
  {
   "cell_type": "code",
   "execution_count": null,
   "metadata": {},
   "outputs": [],
   "source": [
    "# Ansewer:\n",
    "# What is multiple inheritance?\n",
    "# Multiple inheritance is a feature in object-oriented programming languages in which a class can inherit attributes and methods from more than one parent class.\n",
    "\n",
    "# Example:\n",
    "\n",
    "class Parent1:\n",
    "    def method1(self):\n",
    "        print(\"This is method 1 from Parent 1\")\n",
    "\n",
    "class Parent2:\n",
    "    def method2(self):\n",
    "        print(\"This is method 2 from Parent 2\")\n",
    "\n",
    "class Child(Parent1, Parent2):\n",
    "    def method3(self):\n",
    "        print(\"This is method 3 from Child\")\n",
    "\n",
    "\n",
    "obj = Child()\n",
    "\n",
    "obj.method1()\n",
    "\n",
    "obj.method2()\n",
    "\n",
    "obj.method3()\n"
   ]
  },
  {
   "cell_type": "markdown",
   "metadata": {},
   "source": [
    "#### Q4. What are getter and setter in python? Create a class and create a getter and a setter method in this class."
   ]
  },
  {
   "cell_type": "code",
   "execution_count": null,
   "metadata": {},
   "outputs": [],
   "source": [
    "# Answer:\n",
    "# What are getter and setter in python?\n",
    "# Getter and Setter are two important functions in object-oriented programming. \n",
    "# Getter is a method that gets the value of a property. \n",
    "# Setter is a method that sets the value of a property.\n",
    "\n",
    "# Example:\n",
    "class MyClass:\n",
    "    def __init__(self):\n",
    "        self._my_property = None\n",
    "\n",
    "    def get_my_property(self):\n",
    "        return self._my_property\n",
    "\n",
    "    def set_my_property(self, value):\n",
    "        self._my_property = value\n",
    "\n",
    "\n",
    "obj = MyClass()\n",
    "obj.set_my_property(\"Mehul\")\n",
    "print(obj.get_my_property())  # Output: Mehul"
   ]
  },
  {
   "cell_type": "markdown",
   "metadata": {},
   "source": [
    "#### Q5.What is method overriding in python? Write a python code to demonstrate method overriding."
   ]
  },
  {
   "cell_type": "code",
   "execution_count": null,
   "metadata": {},
   "outputs": [],
   "source": [
    "# Answer:\n",
    "# What is method overriding in python?\n",
    "# Method overriding is a feature that allows a subclass to provide a specific implementation of a method that is already provided by its parent class.\n",
    "\n",
    "# Example:\n",
    "class Parent:\n",
    "    def greet(self):\n",
    "        print(\"Hello from Parent class\")\n",
    "\n",
    "class Child(Parent):\n",
    "    def greet(self):\n",
    "        print(\"Hello from Child class\")\n",
    "\n",
    "parent = Parent()\n",
    "parent.greet()  # Output: Hello from Parent class\n",
    "\n",
    "child = Child()\n",
    "child.greet()  # Output: Hello from Child class\n",
    "\n"
   ]
  },
  {
   "cell_type": "code",
   "execution_count": null,
   "metadata": {},
   "outputs": [],
   "source": []
  }
 ],
 "metadata": {
  "kernelspec": {
   "display_name": "ALGO",
   "language": "python",
   "name": "python3"
  },
  "language_info": {
   "codemirror_mode": {
    "name": "ipython",
    "version": 3
   },
   "file_extension": ".py",
   "mimetype": "text/x-python",
   "name": "python",
   "nbconvert_exporter": "python",
   "pygments_lexer": "ipython3",
   "version": "3.10.7"
  }
 },
 "nbformat": 4,
 "nbformat_minor": 2
}
