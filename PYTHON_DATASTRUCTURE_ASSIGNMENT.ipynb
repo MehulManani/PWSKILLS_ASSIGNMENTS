{
 "cells": [
  {
   "cell_type": "markdown",
   "metadata": {},
   "source": [
    "# Python Data Structure Assignment"
   ]
  },
  {
   "cell_type": "markdown",
   "metadata": {},
   "source": [
    "### Q1. How do you comment code in Python? What are the different types of comments?"
   ]
  },
  {
   "cell_type": "markdown",
   "metadata": {},
   "source": [
    "#### Answer\n",
    " -> Comments are the statements that provide the useful information to the programmer regarding the program.\n",
    "<br> -> Comments are of two types : \n",
    "<ol>\n",
    "<li> Single Line Comment\n",
    "<li> Multi Line Comment\n",
    "</ol> \n",
    "##### 1. Single Line Comment\n",
    "<br> -> Single Line Comments can be defined using '#' hash mark in the code.\n",
    "<br> -> Example: <br> # This is Single line comment in python.\n",
    "#### 2. Multi Line Comment\n",
    "<br> -> Single Line Comments can be defined using '''/\"\"\" 'triple quotes' in the code.\n",
    "<br> -> Example: <br> ''' This is Multi line comment in python.\n",
    "                          <br>It can be expanded up to \n",
    "                          <br> Multiple Lines. '''"
   ]
  },
  {
   "cell_type": "markdown",
   "metadata": {},
   "source": [
    "### Q2. What are variables in Python? How do you declare and assign values to variables?"
   ]
  },
  {
   "cell_type": "markdown",
   "metadata": {},
   "source": [
    "#### Answer\n",
    "-> Variables are the memory locations that can store the values. \n",
    "<br> -> Variables are used to store data that will be used in program.\n",
    "<br> -> In python, the variable can be declared by defining a specific useful name of variable.\n",
    "<br> -> We can assign values to variable at the time of declaring it.\n",
    "<br> -> Example: my_name = \"Mehul\"\n",
    "<br> -> The above variable named as my_name holds the string value \"Mehul\"."
   ]
  },
  {
   "cell_type": "markdown",
   "metadata": {},
   "source": [
    "#### Q3. How do you convert one data type to another in Python?"
   ]
  },
  {
   "cell_type": "markdown",
   "metadata": {},
   "source": [
    "#### Answer\n",
    "-> The process of converting one data type in to another is known as type casting.\n",
    "<br> -> Example: \n",
    "<br> -> a = 5\n",
    "<br> -> b = str(a)\n",
    "<br> -> In above example, variable 'a' is declared ans assigned the value 5, which is of type integer.\n",
    "<br> -> In next line we have declared one variable 'b' and we want to store the value of 'a' but in string format. So the str function is used to convert integer data type to string data type. "
   ]
  },
  {
   "cell_type": "markdown",
   "metadata": {},
   "source": [
    "#### Q4. How do you write and execute a Python script from the command line?"
   ]
  },
  {
   "cell_type": "markdown",
   "metadata": {},
   "source": [
    "#### Answer\n",
    "-> The Steps to execute Python Script from the command line are below.\n",
    "<ol>\n",
    "<li> Create a python file in any editor that contains the source code. (Let say our file is \"Test\") \n",
    "<li> Save the file with .py extension. (\"Test.py\")\n",
    "<li> Open the command prompt and go to the desired folder where \"Test.py\" is saved.\n",
    "<li> Run the following command: python Test.py\n",
    "<ol>\n",
    "-> The above steps will run the python program in command prompt."
   ]
  },
  {
   "cell_type": "markdown",
   "metadata": {},
   "source": [
    "#### Q5. Given a list my_list = [1, 2, 3, 4, 5], write the code to slice the list and obtain the sub-list [2, 3]."
   ]
  },
  {
   "cell_type": "code",
   "execution_count": 1,
   "metadata": {},
   "outputs": [
    {
     "name": "stdout",
     "output_type": "stream",
     "text": [
      "[2, 3]\n"
     ]
    }
   ],
   "source": [
    "# Answer\n",
    "my_list = [1, 2, 3, 4, 5]\n",
    "print(my_list[1:3])"
   ]
  },
  {
   "cell_type": "markdown",
   "metadata": {},
   "source": [
    "#### Q6. What is a complex number in mathematics, and how is it represented in Python?"
   ]
  },
  {
   "cell_type": "markdown",
   "metadata": {},
   "source": [
    "#### Answer\n",
    "-> The complex numbers in mathematics are those numbers which contains real part and imaginary part\n",
    "<br> -> They can be represented as \"a + bi\", where 'a' is real part and 'i' is imaginary part.\n",
    "<br> -> In python the complex numbers can be represented with\n",
    "<br> 1. Direct method: x = 3 + 5i\n",
    "<br> 2. Using Complex Function: x = complex(3,5) "
   ]
  },
  {
   "cell_type": "markdown",
   "metadata": {},
   "source": [
    "#### Q7. What is the correct way to declare a variable named age and assign the value 25 to it?"
   ]
  },
  {
   "cell_type": "code",
   "execution_count": 2,
   "metadata": {},
   "outputs": [],
   "source": [
    "# Answer\n",
    "age = 25"
   ]
  },
  {
   "cell_type": "markdown",
   "metadata": {},
   "source": [
    "#### Q8. Declare a variable named price and assign the value 9.99 to it. What data type does this variable belong to?"
   ]
  },
  {
   "cell_type": "code",
   "execution_count": 3,
   "metadata": {},
   "outputs": [
    {
     "name": "stdout",
     "output_type": "stream",
     "text": [
      "<class 'float'>\n"
     ]
    }
   ],
   "source": [
    "# Answer\n",
    "price = 9.99\n",
    "print(type(price)) # price variable holds a float value."
   ]
  },
  {
   "cell_type": "markdown",
   "metadata": {},
   "source": [
    "#### Q9. Create a variable named name and assign your full name to it as a string. How would you print the value of this variable?"
   ]
  },
  {
   "cell_type": "code",
   "execution_count": 4,
   "metadata": {},
   "outputs": [
    {
     "name": "stdout",
     "output_type": "stream",
     "text": [
      "Mehulkumar Rameshbhai Manani\n"
     ]
    }
   ],
   "source": [
    "# Answer\n",
    "name  = \"Mehulkumar Rameshbhai Manani\"\n",
    "print(name)"
   ]
  },
  {
   "cell_type": "markdown",
   "metadata": {},
   "source": [
    "#### Q10. Given the string \"Hello, World!\", extract the substring \"World\"."
   ]
  },
  {
   "cell_type": "code",
   "execution_count": 5,
   "metadata": {},
   "outputs": [
    {
     "name": "stdout",
     "output_type": "stream",
     "text": [
      "World\n"
     ]
    }
   ],
   "source": [
    "# Answer\n",
    "greeting = \"Hello, World!\"\n",
    "print(greeting[7:12])"
   ]
  },
  {
   "cell_type": "markdown",
   "metadata": {},
   "source": [
    "#### Q11. Create a variable named \"is_student\" and assign it a boolean value indicating whether you are currently a student or not."
   ]
  },
  {
   "cell_type": "code",
   "execution_count": 6,
   "metadata": {},
   "outputs": [
    {
     "name": "stdout",
     "output_type": "stream",
     "text": [
      "False\n"
     ]
    }
   ],
   "source": [
    "# Answer\n",
    "is_student = False\n",
    "print(is_student)"
   ]
  },
  {
   "cell_type": "code",
   "execution_count": null,
   "metadata": {},
   "outputs": [],
   "source": []
  }
 ],
 "metadata": {
  "kernelspec": {
   "display_name": "Python 3",
   "language": "python",
   "name": "python3"
  },
  "language_info": {
   "codemirror_mode": {
    "name": "ipython",
    "version": 3
   },
   "file_extension": ".py",
   "mimetype": "text/x-python",
   "name": "python",
   "nbconvert_exporter": "python",
   "pygments_lexer": "ipython3",
   "version": "3.11.5"
  }
 },
 "nbformat": 4,
 "nbformat_minor": 2
}
