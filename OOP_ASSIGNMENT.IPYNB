{
 "cells": [
  {
   "cell_type": "markdown",
   "metadata": {},
   "source": [
    "# OOP Assignments"
   ]
  },
  {
   "cell_type": "markdown",
   "metadata": {},
   "source": [
    "#### Q1. Explain Class and Object with respect to Object-Oriented Programming. Give a suitable example."
   ]
  },
  {
   "cell_type": "markdown",
   "metadata": {},
   "source": [
    "##### Answer:\n",
    "-> Class and Object are fundamental concepts in Object-Oriented Programming (OOP).\n",
    "<br> -> A class is a blueprint that defines the properties and behaviors of objects. <br> ->It encapsulates data and methods that operate on that data. <br> -> It serves as a blueprint for creating multiple instances of objects with similar characteristics.\n",
    "\n",
    "<br> -> An object is an instance of a class. \n",
    "<br> -> It represents a specific entity or a real-world object that has its own data and methods. \n",
    "<br> -> Objects are created from a class and can interact with each other to perform tasks.\n",
    "\n",
    "<br> -> Example: \n",
    "<br> -> Let's say the 'Car' class defines the blueprint for creating car objects. Each car object  has its own brand, model, and color. We can create car objects from the given 'Car' Class. The  method is a behavior specific to the car objects, which can be called on each car object.\n",
    "<br> -> By creating multiple instances of the 'Car' class, we can represent different cars with their own unique properties and behaviors."
   ]
  },
  {
   "cell_type": "markdown",
   "metadata": {},
   "source": [
    "#### Q2. Name the four pillars of OOPs."
   ]
  },
  {
   "cell_type": "markdown",
   "metadata": {},
   "source": [
    "##### Answer:\n",
    "The four pillars of Object-Oriented Programming (OOPs) are:\n",
    "\n",
    "1. Encapsulation: It is the process of bundling data and methods together within a class, hiding the internal details and providing a public interface for interacting with the object.\n",
    "\n",
    "2. Inheritance: It allows a class to inherit properties and behaviors from another class, enabling code reuse and creating a hierarchical relationship between classes.\n",
    "\n",
    "3. Polymorphism: It refers to the ability of objects of different classes to respond to the same method call in different ways. It allows for code flexibility and extensibility.\n",
    "\n",
    "4. Abstraction: It involves simplifying complex systems by breaking them down into smaller, more manageable parts. It focuses on the essential features of an object and hides unnecessary details.\n",
    "\n",
    "These four pillars form the foundation of OOPs and help in creating modular, reusable, and maintainable code."
   ]
  },
  {
   "cell_type": "markdown",
   "metadata": {},
   "source": [
    "#### Q3. Explain why the __init__() function is used. Give a suitable example."
   ]
  },
  {
   "cell_type": "markdown",
   "metadata": {},
   "source": [
    "##### Answer:\n",
    "-> The __init__() function in Python is a special method used for initializing newly created objects. \n",
    "<br> -> It's a key part of Python classes and is called automatically when a new instance of a class is created. \n",
    "<br> -> This method can take arguments to initialize the object's attributes, providing the opportunity to set up the initial state of an object.\n",
    "\n",
    "``` Python\n",
    "# Example:\n",
    "class Person:\n",
    "    def __init__(self, name, age):\n",
    "        self.name = name\n",
    "        self.age = age\n",
    "\n",
    "person1 = Person(\"Mehul\", 35)\n",
    "print(person1.name)  # Output: Mehul\n",
    "print(person1.age)  # Output: 35\n",
    "```\n",
    "In the above example, we have a class called `Person` with an `__init__()` method. This method is used to initialize the `name` and `age` attributes of a `Person` object. We create an instance of the `Person` class called `person1` and pass the values \"John\" and 25 as arguments to the `__init__()` method. We can then access the `name` and `age` attributes of `person1` using dot notation.\n"
   ]
  },
  {
   "cell_type": "markdown",
   "metadata": {},
   "source": [
    "#### Q4. Why self is used in OOPs?"
   ]
  },
  {
   "cell_type": "markdown",
   "metadata": {},
   "source": [
    "#### Answer:\n",
    "In Object-Oriented Programming (OOP), self is used as a reference to the current instance of a class. It allows us to access the attributes and methods of the object within the class.\n",
    "\n",
    "1. self helps differentiate between instance variables and local variables within a class. It ensures that the correct instance's attributes are accessed and modified.\n",
    "\n",
    "2. It enables the object to maintain its state and store data specific to that instance. Each instance of a class can have different values for its attributes.\n",
    "\n",
    "3. self is used to call other methods within the class. It allows for the reuse of code and promotes modular programming.\n",
    "\n",
    "4. It facilitates object-oriented principles like encapsulation and data hiding. By using self, we can control access to the object's attributes and methods, ensuring proper encapsulation.\n",
    "\n",
    "5. self is a convention in Python, although it can be named differently. However, using self makes the code more readable and understandable for other developers."
   ]
  },
  {
   "cell_type": "markdown",
   "metadata": {},
   "source": [
    "#### Q5. What is inheritance? Give an example for each type of inheritance."
   ]
  },
  {
   "cell_type": "markdown",
   "metadata": {},
   "source": [
    "#### Answer: \n",
    "Inheritance is a fundamental concept in object-oriented programming (OOP) that allows a class to inherit properties and behaviors from another class. It enables code reuse and creates a hierarchical relationship between classes.\n",
    "\n",
    "There are different types of inheritance:\n",
    "\n",
    "1. Single Inheritance: In single inheritance, a class inherits properties and behaviors from a single parent class. It represents an \"is-a\" relationship.\n",
    "\n",
    "    Example: A `Car` class can inherit from a `Vehicle` class. A car is a type of vehicle.\n",
    "\n",
    "2. Multiple Inheritance: In multiple inheritance, a class can inherit properties and behaviors from multiple parent classes. It represents an \"is-a\" relationship with multiple parent classes.\n",
    "\n",
    "    Example: A `Student` class can inherit from both a `Person` class and a `Scholar` class. A student is a person and a scholar.\n",
    "\n",
    "3. Multilevel Inheritance: In multilevel inheritance, a class inherits properties and behaviors from a parent class, which in turn inherits from another parent class. It represents a hierarchical relationship.\n",
    "\n",
    "    Example: A `Grandchild` class can inherit from a `Child` class, which in turn inherits from a `Parent` class. A grandchild is a child, and a child is a parent.\n",
    "\n",
    "4. Hierarchical Inheritance: In hierarchical inheritance, multiple classes inherit properties and behaviors from a single parent class. It represents a one-to-many relationship.\n",
    "\n",
    "    Example: A `Dog` class, `Cat` class, and `Rabbit` class can all inherit from an `Animal` class. Dogs, cats, and rabbits are all types of animals.\n",
    "\n",
    "5. Hybrid Inheritance: Hybrid inheritance is a combination of multiple types of inheritance. It involves using multiple inheritance and multilevel inheritance together.\n",
    "\n",
    "    Example: A `Manager` class can inherit from both an `Employee` class and a `Leader` class. A manager is an employee and a leader.\n",
    "\n"
   ]
  },
  {
   "cell_type": "markdown",
   "metadata": {},
   "source": []
  }
 ],
 "metadata": {
  "language_info": {
   "name": "python"
  }
 },
 "nbformat": 4,
 "nbformat_minor": 2
}
